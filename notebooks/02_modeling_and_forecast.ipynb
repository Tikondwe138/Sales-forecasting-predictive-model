# 02_modeling_and_forecast.ipynb

# Import libraries
import pandas as pd
import numpy as np
import matplotlib.pyplot as plt
from statsmodels.tsa.arima.model import ARIMA
from prophet import Prophet
from sklearn.metrics import mean_absolute_error, mean_squared_error

# Section 1: Load cleaned data
df = pd.read_csv("../data/cleaned_sales_data.csv", parse_dates=['Date'])
df.set_index('Date', inplace=True)

print("Data snapshot:")
print(df.head())

# Section 2: Visualize historical sales
plt.figure(figsize=(12,5))
plt.plot(df.index, df['Sales'], label='Historical Sales')
plt.title("Monthly Sales")
plt.xlabel("Date")
plt.ylabel("Sales")
plt.legend()
plt.show()

# Section 3: Train-Test Split
# Use last 12 months as test set
train = df.iloc[:-12]
test = df.iloc[-12:]

print(f"Training data points: {len(train)}")
print(f"Testing data points: {len(test)}")

# Section 4: ARIMA Model

# Simple ARIMA order (p,d,q) = (2,1,2) as example (would tune normally)
arima_order = (2, 1, 2)
arima_model = ARIMA(train['Sales'], order=arima_order)
arima_result = arima_model.fit()

print(arima_result.summary())

# Forecast
arima_forecast = arima_result.forecast(steps=12)

# Section 5: Prophet Model

# Prepare dataframe for Prophet
prophet_df = train.reset_index().rename(columns={'Date': 'ds', 'Sales': 'y'})

prophet_model = Prophet(yearly_seasonality=True, daily_seasonality=False, weekly_seasonality=False)
prophet_model.fit(prophet_df)

# Create future dataframe for 12 months
future = prophet_model.make_future_dataframe(periods=12, freq='MS')
forecast = prophet_model.predict(future)

# Extract forecasted values for test period
prophet_forecast = forecast.set_index('ds').loc[test.index]['yhat']

# Section 6: Evaluation

def evaluate_model(true, predicted, model_name):
    mae = mean_absolute_error(true, predicted)
    rmse = mean_squared_error(true, predicted, squared=False)
    print(f"{model_name} - MAE: {mae:.2f}, RMSE: {rmse:.2f}")

print("Model evaluation on test set:")

evaluate_model(test['Sales'], arima_forecast, "ARIMA")
evaluate_model(test['Sales'], prophet_forecast, "Prophet")

# Section 7: Visualization of Forecasts

plt.figure(figsize=(14,7))
plt.plot(df.index, df['Sales'], label='Historical Sales', color='blue')
plt.plot(test.index, arima_forecast, label='ARIMA Forecast', color='red', linestyle='--')
plt.plot(test.index, prophet_forecast, label='Prophet Forecast', color='green', linestyle='--')
plt.fill_between(forecast['ds'], forecast['yhat_lower'], forecast['yhat_upper'], color='green', alpha=0.2, label='Prophet Confidence Interval')
plt.title('Sales Forecast Comparison')
plt.xlabel('Date')
plt.ylabel('Sales')
plt.legend()
plt.show()

# Section 8: Save final forecast results (optional)
forecast[['ds', 'yhat', 'yhat_lower', 'yhat_upper']].to_csv("../reports/prophet_forecast.csv", index=False)
arima_forecast.to_csv("../reports/arima_forecast.csv")
