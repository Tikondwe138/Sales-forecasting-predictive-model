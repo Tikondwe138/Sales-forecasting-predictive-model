# 01_data_preparation.ipynb

# Import libraries
import pandas as pd
import numpy as np
import matplotlib.pyplot as plt
import seaborn as sns
from datetime import datetime, timedelta

# Set plotting style
sns.set_style('whitegrid')

# Section 1: Generate Sample Sales Data (Monthly)
# For demo purposes - simulate 5 years of monthly sales data for Rab Processors Ltd

np.random.seed(42)

date_range = pd.date_range(start='2018-01-01', end='2022-12-31', freq='MS')
n_periods = len(date_range)

# Simulate seasonal monthly sales with trend and noise
base_sales = 10000
trend = np.linspace(0, 5000, n_periods)  # Increasing sales trend over time
seasonality = 3000 * np.sin(2 * np.pi * date_range.month / 12)  # yearly seasonality
noise = np.random.normal(0, 500, n_periods)  # random noise

sales = base_sales + trend + seasonality + noise
sales = np.round(sales, 0).astype(int)

# Create DataFrame
df_sales = pd.DataFrame({
    'Date': date_range,
    'Sales': sales
})

# Preview data
print("Sample sales data head:")
print(df_sales.head())

# Section 2: Basic EDA
plt.figure(figsize=(14,6))
plt.plot(df_sales['Date'], df_sales['Sales'], marker='o', linestyle='-')
plt.title("Monthly Sales over Time")
plt.xlabel("Date")
plt.ylabel("Sales (MK)")
plt.show()

# Section 3: Check for missing data
print("\nMissing values:")
print(df_sales.isnull().sum())

# Section 4: Resampling & Aggregation (if daily data)
# Not needed here since data is monthly but showing example:
# df_sales.set_index('Date', inplace=True)
# monthly_sales = df_sales['Sales'].resample('MS').sum()

# Section 5: Set Date as Index (required for some time series models)
df_sales.set_index('Date', inplace=True)

print("\nData after setting Date as index:")
print(df_sales.head())

# Section 6: Save cleaned data for next notebook (optional)
df_sales.to_csv("../data/cleaned_sales_data.csv")
